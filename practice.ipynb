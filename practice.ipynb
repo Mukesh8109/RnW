{
 "cells": [
  {
   "cell_type": "code",
   "execution_count": 1,
   "id": "c41471f8",
   "metadata": {},
   "outputs": [],
   "source": [
    "with open(\"journal.txt\",\"w\") as file:\n",
    "    file.write(\"hello bluds\")"
   ]
  },
  {
   "cell_type": "code",
   "execution_count": 4,
   "id": "157ab84e",
   "metadata": {},
   "outputs": [
    {
     "name": "stdout",
     "output_type": "stream",
     "text": [
      "file not found\n"
     ]
    }
   ],
   "source": [
    "try:\n",
    "    with open(\"journal1.txt\",\"r\") as file:\n",
    "        print(file.read())\n",
    "except FileNotFoundError:\n",
    "    print(\"file not found\")"
   ]
  },
  {
   "cell_type": "code",
   "execution_count": 10,
   "id": "cf7630d7",
   "metadata": {},
   "outputs": [],
   "source": [
    "import os\n",
    "\n",
    "if os.path.exists(\"journal.txt\"):\n",
    "    os.rename(\"journal.txt\",\"journal.txt\")"
   ]
  },
  {
   "cell_type": "code",
   "execution_count": 12,
   "id": "1bd24e4f",
   "metadata": {},
   "outputs": [],
   "source": [
    "import random\n",
    "\n",
    "with open(\"renamed_journal.txt\",\"w\") as file:\n",
    "    for i in range(100):\n",
    "        num = random.randint(1,100)\n",
    "        file.write(f\"{num}\\n\")"
   ]
  },
  {
   "cell_type": "code",
   "execution_count": 13,
   "id": "06f40ddc",
   "metadata": {},
   "outputs": [],
   "source": [
    "import math\n",
    "\n",
    "with open(\"renamed_journal.txt\",\"r\") as infile, open(\"testing.txt\",\"w\") as outfile:\n",
    "    for line in infile:\n",
    "        sqrt_val = math.sqrt(num)\n",
    "        outfile.write(f\"{num} = {sqrt_val:.2f}\\n\")"
   ]
  },
  {
   "cell_type": "code",
   "execution_count": 3,
   "id": "f51e0921",
   "metadata": {},
   "outputs": [
    {
     "ename": "_IncompleteInputError",
     "evalue": "incomplete input (3495658274.py, line 5)",
     "output_type": "error",
     "traceback": [
      "  \u001b[36mCell\u001b[39m\u001b[36m \u001b[39m\u001b[32mIn[3]\u001b[39m\u001b[32m, line 5\u001b[39m\n\u001b[31m    \u001b[39m\u001b[31mwith open(\"testing.txt\",\"w\") as file:\u001b[39m\n                                         ^\n\u001b[31m_IncompleteInputError\u001b[39m\u001b[31m:\u001b[39m incomplete input\n"
     ]
    }
   ],
   "source": [
    "import datetime\n",
    "def get_current_datetime():\n",
    "    return datetime.datetime.now()\n",
    "\n",
    "with open(\"testing.txt\",\"w\") as file:"
   ]
  }
 ],
 "metadata": {
  "kernelspec": {
   "display_name": ".venv",
   "language": "python",
   "name": "python3"
  },
  "language_info": {
   "codemirror_mode": {
    "name": "ipython",
    "version": 3
   },
   "file_extension": ".py",
   "mimetype": "text/x-python",
   "name": "python",
   "nbconvert_exporter": "python",
   "pygments_lexer": "ipython3",
   "version": "3.13.3"
  }
 },
 "nbformat": 4,
 "nbformat_minor": 5
}
